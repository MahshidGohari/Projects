{
    "cells": [
        {
            "cell_type": "markdown",
            "metadata": {
                "collapsed": true
            },
            "source": "The main problem right now, because of the increasing number of coffee shops in New York, it is complicated to figure out for an entrepeneur what part of the city is convenient to start a business such as coffee shops. If there is a large number of coffee shops in the area it will be more competitive and it will require more money to invest if the entrepeneur want to see profit soon. On the other hand, it is also critical for the owner to know if the place is appropiate to stablish and start a coffee shop. \n\n"
        }
    ],
    "metadata": {
        "kernelspec": {
            "display_name": "Python 3.8",
            "language": "python",
            "name": "python3"
        },
        "language_info": {
            "codemirror_mode": {
                "name": "ipython",
                "version": 3
            },
            "file_extension": ".py",
            "mimetype": "text/x-python",
            "name": "python",
            "nbconvert_exporter": "python",
            "pygments_lexer": "ipython3",
            "version": "3.8.10"
        }
    },
    "nbformat": 4,
    "nbformat_minor": 1
}